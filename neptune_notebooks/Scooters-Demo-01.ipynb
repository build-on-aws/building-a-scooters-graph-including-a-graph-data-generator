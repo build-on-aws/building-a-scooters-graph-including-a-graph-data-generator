{
 "cells": [
  {
   "cell_type": "markdown",
   "id": "e02637a9-23e8-4d4c-8a1e-53b38766228f",
   "metadata": {},
   "source": [
    "<div style=\"text-align: center;\">\n",
    "    <img src=https://d1.awsstatic.com/logos/aws-logo-lockups/poweredbyaws/PB_AWS_logo_RGB_REV_SQ.8c88ac215fe4e441dc42865dd6962ed4f444a90d.png width=\"350\" class=\"center\">\n",
    "</div>\n",
    "<center> Welcome to the Scooters Graph Demo! </center>\n",
    "<center><b> YouTube channel: </b> <a href=\"https://www.youtube.com/@awsdevelopers\">AWS Developers</a></center>"
   ]
  },
  {
   "cell_type": "markdown",
   "id": "21d51e2c",
   "metadata": {},
   "source": [
    "## Introduction\n",
    "#### Welcome to our tutorial on \"Implementing a Graph database for a Scooters Business on AWS\".\n",
    "In this Notebook, we will load the graph datasets we have generated through our Scooters CDK stacks and then use Gremlin queries, to explore this data in Amazon Neptune. Below, you'll also find some magic commands, such as \"%graph_notebook_version\" or \"%status\". These are to make sure your environment is ready to run, without any errors. Run them and you should see the metadata about our environment; e.g. cluster name deployed by our CDK stack, cluster status, etc. \n",
    "\n",
    "- Note: at the of this notebook, there's an optional step to delete all the data in this Neptune cluster."
   ]
  },
  {
   "cell_type": "code",
   "execution_count": null,
   "id": "66e189d8-f29c-4872-9f66-80b6e21088bd",
   "metadata": {
    "tags": []
   },
   "outputs": [],
   "source": [
    "%graph_notebook_version"
   ]
  },
  {
   "cell_type": "code",
   "execution_count": null,
   "id": "2f47be99-22bd-4497-a79b-3732fbcfa68f",
   "metadata": {
    "tags": []
   },
   "outputs": [],
   "source": [
    "%graph_notebook_config"
   ]
  },
  {
   "cell_type": "code",
   "execution_count": null,
   "id": "8b1117d9-45cf-48e6-beb8-076e27a4024c",
   "metadata": {
    "tags": []
   },
   "outputs": [],
   "source": [
    "%status"
   ]
  },
  {
   "cell_type": "markdown",
   "id": "833982e7",
   "metadata": {},
   "source": [
    "### Quick operations\n",
    "**Add two Nodes and 1 edge**"
   ]
  },
  {
   "cell_type": "code",
   "execution_count": null,
   "id": "b7291f85",
   "metadata": {},
   "outputs": [],
   "source": [
    "%%gremlin\n",
    "\n",
    "g.addV('scooter').property(id, 'scooter_xyz').property('fuel_pct', 26)"
   ]
  },
  {
   "cell_type": "code",
   "execution_count": null,
   "id": "8c7d32f3",
   "metadata": {},
   "outputs": [],
   "source": [
    "%%gremlin\n",
    "\n",
    "g.addV('warehouse').property(id, 'warehouse_cambs_south_01').property('location', 'Cambridge South,UK')"
   ]
  },
  {
   "cell_type": "code",
   "execution_count": null,
   "id": "53da98ab",
   "metadata": {},
   "outputs": [],
   "source": [
    "%%gremlin\n",
    "\n",
    "g.V('scooter_xyz').addE('is_at').to(__.V('warehouse_cambs_south_01')).property('time_gps', 'time_1708699174,52.1774256,0.1454513,').next()"
   ]
  },
  {
   "cell_type": "code",
   "execution_count": null,
   "id": "3db20c90",
   "metadata": {},
   "outputs": [],
   "source": [
    "%%gremlin\n",
    "\n",
    "g.V('scooter_xyz').outE().inV().path().by(elementMap())"
   ]
  },
  {
   "cell_type": "markdown",
   "id": "ad4dd71e",
   "metadata": {},
   "source": [
    "---"
   ]
  },
  {
   "cell_type": "code",
   "execution_count": null,
   "id": "c22483a1-d06a-4d3e-b154-9548a20458ae",
   "metadata": {
    "tags": []
   },
   "outputs": [],
   "source": [
    "import requests, json, traceback"
   ]
  },
  {
   "cell_type": "markdown",
   "id": "f75db69e",
   "metadata": {},
   "source": [
    "<b> Requirement: </b><br>\n",
    "In the next cell, change the parameter values to those from the CDK deployment output or from the AWS console:\n",
    "1. Open the AWS console, go to CloudFormation and click on our CDK stack called \"ScootersNeptuneStack\".\n",
    "2. Click on the second tab, called \"Outputs\".\n",
    "3. Copy the value of outputneptuneendpoint and replace this to the value of NEPTUNE_SERVER_ENDPOINT\n",
    "4. Copy the value of outputneptuneiamrole and replace this to the value of IAM_ROLE_ARN\n",
    "5. Copy the value of outputs3bucket and replace this to the value of S3_BUCKET\n",
    "6. For AWS_REGION, enter the AWS region where you're doing all this demo; e.g. eu-west-1\n"
   ]
  },
  {
   "cell_type": "code",
   "execution_count": null,
   "id": "510a2448-93be-46ae-ad76-be0c278a3c9c",
   "metadata": {
    "tags": []
   },
   "outputs": [],
   "source": [
    "# Input Neptune parameters, to load the generated data:\n",
    "NEPTUNE_SERVER_ENDPOINT = 'change_me'\n",
    "IAM_ROLE_ARN = 'change_me'\n",
    "S3_BUCKET = 'change_me'\n",
    "AWS_REGION = 'change_me'"
   ]
  },
  {
   "cell_type": "code",
   "execution_count": null,
   "id": "42caecf7",
   "metadata": {},
   "outputs": [],
   "source": [
    "# Neptune endpoint. You don't need to change anything here, unless you changed the Neptune's database port.\n",
    "PORT = 8182\n",
    "ENDPOINT = f\"https://{NEPTUNE_SERVER_ENDPOINT}:{PORT}/loader\""
   ]
  },
  {
   "cell_type": "markdown",
   "id": "aa4fefc4",
   "metadata": {},
   "source": [
    "### Neptune Loader Command\n",
    "\n",
    "Loads data from an Amazon S3 bucket into a Neptune DB instance.\n",
    "\n",
    "To load data, you must send an HTTP POST request to the https://your-neptune-endpoint:port/loader endpoint. The parameters for the loader request can be sent in the POST body or as URL-encoded parameters.\n",
    "\n",
    "The S3 bucket must be in the same AWS Region as the cluster. In our case, it is as we deployed it using our CDK stack. The same for the required privileges, as the IAM role attached to this cluster has been already granted with S3 access to our CDK-created bucket.\n",
    "\n",
    "If you want to see all options for the loader, go to: https://docs.aws.amazon.com/neptune/latest/userguide/load-api-reference-load.html"
   ]
  },
  {
   "cell_type": "markdown",
   "id": "9280ce0e",
   "metadata": {},
   "source": [
    "### Load Vertices / Nodes\n",
    "\n",
    "Let's now load the Nodes dataset, generated by our Lambda function. \n",
    "\n",
    "\n",
    "<b> Important:</b>The next cell won't return any information. Just carry on with the next cells"
   ]
  },
  {
   "cell_type": "code",
   "execution_count": null,
   "id": "84de521d-61b6-44b9-b47c-53d942f07641",
   "metadata": {
    "tags": []
   },
   "outputs": [],
   "source": [
    "# Prepare Neptune API input\n",
    "headers = {'Content-Type': 'application/json'}\n",
    "data = {\n",
    "      \"source\" : f\"s3://{S3_BUCKET}/scooters-graph-demo/neptune/data/vertices.csv\",\n",
    "      \"format\" : \"csv\",\n",
    "      \"iamRoleArn\" : f\"{IAM_ROLE_ARN}\",\n",
    "      \"region\" : f\"{AWS_REGION}\",\n",
    "      \"failOnError\" : \"FALSE\",\n",
    "      \"parallelism\" : \"MEDIUM\",\n",
    "      \"updateSingleCardinalityProperties\" : \"TRUE\",\n",
    "      \"queueRequest\" : \"TRUE\"\n",
    "}\n",
    "\n",
    "# Load CSV file into Neptune\n",
    "response = requests.post(ENDPOINT, data=json.dumps(data), headers=headers)"
   ]
  },
  {
   "cell_type": "markdown",
   "id": "dbe89022-42a0-4ae6-b4eb-35360fa1c4fb",
   "metadata": {},
   "source": [
    "### Show response from previous load\n",
    "\n",
    "We now create a simple function, to request the status from the Neptune Loader API. This will help us in know what happened to our POST command above to load the Vertices.csv file"
   ]
  },
  {
   "cell_type": "code",
   "execution_count": null,
   "id": "9d1ef6a4-ff6e-4140-969a-257f23001a10",
   "metadata": {
    "tags": []
   },
   "outputs": [],
   "source": [
    "def get_load_status(response_load):\n",
    "    try:\n",
    "        # Extract Load ID from Amazon Neptune\n",
    "        neptune_load_id = response_load.json()['payload']['loadId']\n",
    "\n",
    "        # Parameters definition, to monitor the Load status\n",
    "        data = {\n",
    "            \"details\" : \"true\",\n",
    "            \"errors\" : \"true\",\n",
    "            \"page\" : \"1\",\n",
    "            \"errorsPerPage\": \"3\"\n",
    "        }\n",
    "\n",
    "        # Query the Neptune Loader endpoint, to collect the status\n",
    "        response = requests.get(f\"{ENDPOINT}/{neptune_load_id}\", params=data)\n",
    "\n",
    "        # Return the status. This can be used for polling; i.e. in a Step Function workflow.\n",
    "        return json.dumps(response.json(), separators=(',', ':'), indent=4)\n",
    "    except Exception as e:\n",
    "        print('Error while fetching status: {}'.format(e))\n",
    "        traceback.print_exc()"
   ]
  },
  {
   "cell_type": "markdown",
   "id": "ba7afaa8",
   "metadata": {},
   "source": [
    "Let's now see what the Neptune Loader returns, by querying the Loader endpoint:\n",
    "\n",
    "<b> Important:</b> read carefully the returned message from the loader. This will tell you if it hasn't started yet (```\"status\":\"LOAD_NOT_STARTED\"```), or if it has completed the load (```\"status\":\"LOAD_COMPLETED\"```), or if it's still in progress (```\"status\":\"LOAD_IN_PROGRESS\"```), or something else (e.g. ERROR). It will also show you how many nodes has loaded, timestamp, and other information. This is very useful, for example when you may be duplicating data by mistake or not creating your CSV data files properly.\n",
    "\n",
    "Run many times the next cell, until it tells you the load has completed. i.e. If the output is similar to this one, then wait 2 seconds and rerun the ```print(get_load_status(response))``` command, until it says \"LOAD_COMPLETED\"\n",
    "\n",
    "```json\n",
    "{\n",
    "    \"status\":\"200 OK\",\n",
    "    \"payload\":{\n",
    "        \"feedCount\":[\n",
    "            {\n",
    "                \"LOAD_IN_PROGRESS\":1\n",
    "            }\n",
    "        ]\n",
    "...\n",
    "```\n",
    "\n",
    "For more information, see: docs.aws.amazon.com/neptune/latest/userguide/load-api-reference-status-response.html "
   ]
  },
  {
   "cell_type": "code",
   "execution_count": null,
   "id": "a3019fbb-d061-4569-98b8-f5e2758cfa35",
   "metadata": {
    "tags": []
   },
   "outputs": [],
   "source": [
    "# Monitor Load status\n",
    "print(get_load_status(response))"
   ]
  },
  {
   "cell_type": "markdown",
   "id": "f13efc82-3666-4412-abc4-91227721b8c7",
   "metadata": {},
   "source": [
    "### Load Edges\n",
    "We do the same for our Edges dataset"
   ]
  },
  {
   "cell_type": "code",
   "execution_count": null,
   "id": "ea0536e9-e408-4077-a6b3-c3c740e147dd",
   "metadata": {
    "tags": []
   },
   "outputs": [],
   "source": [
    "# Prepare Neptune API input\n",
    "headers = {'Content-Type': 'application/json'}\n",
    "data = {\n",
    "      \"source\" : f\"s3://{S3_BUCKET}/scooters-graph-demo/neptune/data/edges.csv\",\n",
    "      \"format\" : \"csv\",\n",
    "      \"iamRoleArn\" : f\"{IAM_ROLE_ARN}\",\n",
    "      \"region\" : f\"{AWS_REGION}\",\n",
    "      \"failOnError\" : \"FALSE\",\n",
    "      \"parallelism\" : \"MEDIUM\",\n",
    "      \"updateSingleCardinalityProperties\" : \"TRUE\",\n",
    "      \"queueRequest\" : \"TRUE\"\n",
    "}\n",
    "\n",
    "# Load CSV file into Neptune\n",
    "response = requests.post(ENDPOINT, data=json.dumps(data), headers=headers)"
   ]
  },
  {
   "cell_type": "code",
   "execution_count": null,
   "id": "467caf4e-a0c2-496d-8d3f-2a844ec3108e",
   "metadata": {
    "tags": []
   },
   "outputs": [],
   "source": [
    "# Monitor Load status. Execute this many times, until the job says LOAD_COMPLETED.\n",
    "print(get_load_status(response))"
   ]
  },
  {
   "cell_type": "markdown",
   "id": "2cc248f6",
   "metadata": {},
   "source": [
    "### Let's now query the graph data\n",
    "\n",
    "- Don't forget to see the second and third tab from the results below, as they contain relevant information"
   ]
  },
  {
   "cell_type": "code",
   "execution_count": null,
   "id": "9e0f6b57",
   "metadata": {},
   "outputs": [],
   "source": [
    "%%gremlin\n",
    "\n",
    "// This query will return 30 random connected nodes by one hop \n",
    "g.V().outE().inV().path().by(elementMap()).limit(30)"
   ]
  },
  {
   "cell_type": "code",
   "execution_count": null,
   "id": "ab2e6d4c-80d9-4b93-b9a4-721547593cfc",
   "metadata": {
    "tags": []
   },
   "outputs": [],
   "source": [
    "%%gremlin\n",
    "\n",
    "// This query will return 100 random connected Scooters\n",
    "g.V().hasLabel('scooter').outE().inV().path().by(elementMap()).limit(100)"
   ]
  },
  {
   "cell_type": "code",
   "execution_count": null,
   "id": "c707114a-35b7-40f3-88a2-8ac837d968ae",
   "metadata": {},
   "outputs": [],
   "source": [
    "%%gremlin\n",
    "\n",
    "// This query will return 50 connected Scooters that had an incident, showing the legal case ID related.\n",
    "g.V().hasLabel('scooter').repeat(__.outE().inV().simplePath()).until(hasLabel('incident')).out().path().limit(50)"
   ]
  },
  {
   "cell_type": "markdown",
   "id": "10c4e777-df26-442c-851a-5aa105976924",
   "metadata": {},
   "source": [
    "---\n",
    "\n",
    "### Optional: Delete entire graph; i.e. to reset it and load data again\n",
    "More at [\"Empty an Amazon Neptune DB cluster using the fast reset API\"](https://docs.aws.amazon.com/neptune/latest/userguide/manage-console-fast-reset.html)"
   ]
  },
  {
   "cell_type": "code",
   "execution_count": null,
   "id": "2cf2b61c-7245-4a6d-a265-ee36ab4957d6",
   "metadata": {},
   "outputs": [],
   "source": [
    "def delete_all_graph(conn_string):\n",
    "    # Init Reset parameters\n",
    "    headers = {'Content-Type': 'application/json'}\n",
    "    data = {\n",
    "        \"action\" : \"initiateDatabaseReset\"\n",
    "    }\n",
    "\n",
    "    # Init Database Full Reset\n",
    "    response = requests.post(conn_string, data=json.dumps(data), headers=headers)\n",
    "\n",
    "    # Get the Reset Token from API\n",
    "    reset_token = response.json()['payload']['token']\n",
    "\n",
    "    # Run reset params\n",
    "    data = {\n",
    "        \"action\" : \"performDatabaseReset\",\n",
    "        \"token\" : reset_token\n",
    "    }\n",
    "\n",
    "    # Query the Neptune Loader endpoint, to collect the status\n",
    "    response = requests.post(conn_string, data=json.dumps(data), headers=headers)\n",
    "\n",
    "\n",
    "    # Return the status. This can be used for polling; i.e. in a Step Function workflow.\n",
    "    return json.dumps(response.json(), separators=(',', ':'), indent=4)"
   ]
  },
  {
   "cell_type": "code",
   "execution_count": null,
   "id": "677dd113-0117-46ba-bcbc-6100119fed60",
   "metadata": {},
   "outputs": [],
   "source": [
    "# Warning: Confirm your cluster name here, before deleting all the graph data:\n",
    "PORT = 8182\n",
    "SERVER_TO_TRUNCATE = 'add-your-cluster-name-here.aws-region-here.neptune.amazonaws.com'\n",
    "ENDPOINT_TO_TRUNCATE = f\"https://{SERVER_TO_TRUNCATE}:{PORT}/system\""
   ]
  },
  {
   "cell_type": "markdown",
   "id": "ea879927-7136-43aa-995e-bf0a1c5075f3",
   "metadata": {},
   "source": [
    "### WARNING: This will DELETE all Neptune data from the cluster"
   ]
  },
  {
   "cell_type": "code",
   "execution_count": null,
   "id": "b654b974-feee-4bf9-9b92-9a7e33aa1049",
   "metadata": {},
   "outputs": [],
   "source": [
    "# WARNING: This will DELETE all Neptune data from the cluster\n",
    "reset_response = delete_all_graph(conn_string=ENDPOINT_TO_TRUNCATE)\n",
    "print(reset_response)"
   ]
  },
  {
   "cell_type": "code",
   "execution_count": null,
   "id": "0ec4e382-98fc-4081-b8ba-9ffeb42457cb",
   "metadata": {
    "tags": []
   },
   "outputs": [],
   "source": [
    "%%gremlin\n",
    "\n",
    "// Confirm this query returns nothing. This may fail, while the Database Reset is working. Execute a few times after a minute or so, and it should work.  \n",
    "g.V().out().limit(10)"
   ]
  }
 ],
 "metadata": {
  "kernelspec": {
   "display_name": "Python 3",
   "language": "python",
   "name": "python3"
  },
  "language_info": {
   "codemirror_mode": {
    "name": "ipython",
    "version": 3
   },
   "file_extension": ".py",
   "mimetype": "text/x-python",
   "name": "python",
   "nbconvert_exporter": "python",
   "pygments_lexer": "ipython3",
   "version": "3.10.8"
  }
 },
 "nbformat": 4,
 "nbformat_minor": 5
}
